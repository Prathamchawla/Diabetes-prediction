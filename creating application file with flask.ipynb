{
 "cells": [
  {
   "cell_type": "code",
   "execution_count": 1,
   "id": "f64a98fe",
   "metadata": {},
   "outputs": [],
   "source": [
    "from flask import Flask,request,app,render_template\n",
    "from flask import Response\n",
    "import pickle \n",
    "import numpy as np\n",
    "import pandas as pd"
   ]
  },
  {
   "cell_type": "code",
   "execution_count": 2,
   "id": "8ebe24a0",
   "metadata": {},
   "outputs": [],
   "source": [
    "application = Flask(__name__)\n",
    "app = application"
   ]
  },
  {
   "cell_type": "code",
   "execution_count": 3,
   "id": "873c0fb7",
   "metadata": {},
   "outputs": [],
   "source": [
    "scaler = pickle.load(open('model/scaler.pkl','rb'))\n",
    "model = pickle.load(open('model/modelforprediction.pkl','rb'))"
   ]
  },
  {
   "cell_type": "code",
   "execution_count": 4,
   "id": "4f665dbf",
   "metadata": {},
   "outputs": [],
   "source": [
    "# route for home page\n",
    "@app.route('/')\n",
    "def index():\n",
    "    return render_template('index.html')"
   ]
  },
  {
   "cell_type": "code",
   "execution_count": 5,
   "id": "b10f5050",
   "metadata": {},
   "outputs": [],
   "source": [
    "# route for single datapoint prediction\n",
    "\n",
    "@app.route('/predictdata',methods = ['GET','POST'])\n",
    "def predict_datapoint():\n",
    "    result =\"\"\n",
    "    \n",
    "    if request.method == 'POST':\n",
    "        \n",
    "        Pregnancies = int(request.form.get('Pregnancies'))\n",
    "        Glucose = float(request.form.get('Glucose'))\n",
    "        BloodPressure = float(request.form.get('BloodPressure'))\n",
    "        SkinThickness = float(request.form.get('SkinThickness'))\n",
    "        Insulin = float(request.form.get('Insulin'))\n",
    "        BMI = float(request.form.get('BMI'))\n",
    "        DiabetesPedigreeFunction = float(request.form.get('DiabetesPedigreeFunction'))\n",
    "        Age = float(request.form.get('Age'))\n",
    "        \n",
    "        new_data = scaler.transform([[Pregnancies,Glucose,BloodPressure,SkinThickness,Insulin,BMI,DiabetesPedigreeFunction,Age]])\n",
    "        predict = model.predict(new_data)\n",
    "        \n",
    "        if predict[0] == 1 :\n",
    "            result = 'Diabetic'\n",
    "        else:\n",
    "            result = 'Non-Diabetic'\n",
    "            \n",
    "        return render_template('single_prediction.html',result=result)\n",
    "    else:\n",
    "        return render_template('home.html')\n",
    "    \n"
   ]
  },
  {
   "cell_type": "code",
   "execution_count": null,
   "id": "44e5e5d1",
   "metadata": {},
   "outputs": [
    {
     "name": "stdout",
     "output_type": "stream",
     "text": [
      " * Serving Flask app \"__main__\" (lazy loading)\n",
      " * Environment: production\n",
      "\u001b[31m   WARNING: This is a development server. Do not use it in a production deployment.\u001b[0m\n",
      "\u001b[2m   Use a production WSGI server instead.\u001b[0m\n",
      " * Debug mode: off\n"
     ]
    },
    {
     "name": "stderr",
     "output_type": "stream",
     "text": [
      " * Running on all addresses.\n",
      "   WARNING: This is a development server. Do not use it in a production deployment.\n",
      " * Running on http://192.168.1.13:5000/ (Press CTRL+C to quit)\n",
      "192.168.1.13 - - [17/May/2023 04:56:58] \"GET / HTTP/1.1\" 200 -\n",
      "192.168.1.13 - - [17/May/2023 04:57:03] \"GET /predictdata HTTP/1.1\" 200 -\n",
      "192.168.1.13 - - [17/May/2023 04:57:22] \"GET /predictdata?Pregnancies=23&Glucose=45&BloodPressure=56&SkinThickness=67&Insulin=6&BMI=54&DiabetesPedigreeFunction=53&Age=34 HTTP/1.1\" 200 -\n"
     ]
    }
   ],
   "source": [
    "if __name__ =='__main__':\n",
    "    app.run(host='0.0.0.0')"
   ]
  },
  {
   "cell_type": "code",
   "execution_count": null,
   "id": "19b5d74c",
   "metadata": {},
   "outputs": [],
   "source": []
  },
  {
   "cell_type": "code",
   "execution_count": null,
   "id": "fff8dcce",
   "metadata": {},
   "outputs": [],
   "source": []
  },
  {
   "cell_type": "code",
   "execution_count": null,
   "id": "5bc1df5b",
   "metadata": {},
   "outputs": [],
   "source": []
  },
  {
   "cell_type": "code",
   "execution_count": null,
   "id": "d9d5058d",
   "metadata": {},
   "outputs": [],
   "source": []
  },
  {
   "cell_type": "code",
   "execution_count": null,
   "id": "59b0772f",
   "metadata": {},
   "outputs": [],
   "source": []
  },
  {
   "cell_type": "code",
   "execution_count": null,
   "id": "a33eecd5",
   "metadata": {},
   "outputs": [],
   "source": []
  },
  {
   "cell_type": "code",
   "execution_count": null,
   "id": "212aefd6",
   "metadata": {},
   "outputs": [],
   "source": []
  },
  {
   "cell_type": "code",
   "execution_count": null,
   "id": "7c1ff800",
   "metadata": {},
   "outputs": [],
   "source": []
  },
  {
   "cell_type": "code",
   "execution_count": null,
   "id": "800a8117",
   "metadata": {},
   "outputs": [],
   "source": []
  },
  {
   "cell_type": "code",
   "execution_count": null,
   "id": "d286bdf5",
   "metadata": {},
   "outputs": [],
   "source": []
  },
  {
   "cell_type": "code",
   "execution_count": null,
   "id": "ffef0e4a",
   "metadata": {},
   "outputs": [],
   "source": []
  },
  {
   "cell_type": "code",
   "execution_count": null,
   "id": "ed6f6f13",
   "metadata": {},
   "outputs": [],
   "source": []
  },
  {
   "cell_type": "code",
   "execution_count": null,
   "id": "bf890936",
   "metadata": {},
   "outputs": [],
   "source": []
  },
  {
   "cell_type": "code",
   "execution_count": null,
   "id": "98a9bae0",
   "metadata": {},
   "outputs": [],
   "source": []
  },
  {
   "cell_type": "code",
   "execution_count": null,
   "id": "b1090c16",
   "metadata": {},
   "outputs": [],
   "source": []
  },
  {
   "cell_type": "code",
   "execution_count": null,
   "id": "665c923a",
   "metadata": {},
   "outputs": [],
   "source": []
  },
  {
   "cell_type": "code",
   "execution_count": null,
   "id": "058f47fb",
   "metadata": {},
   "outputs": [],
   "source": []
  },
  {
   "cell_type": "code",
   "execution_count": null,
   "id": "21396aa1",
   "metadata": {},
   "outputs": [],
   "source": []
  }
 ],
 "metadata": {
  "kernelspec": {
   "display_name": "Python 3 (ipykernel)",
   "language": "python",
   "name": "python3"
  },
  "language_info": {
   "codemirror_mode": {
    "name": "ipython",
    "version": 3
   },
   "file_extension": ".py",
   "mimetype": "text/x-python",
   "name": "python",
   "nbconvert_exporter": "python",
   "pygments_lexer": "ipython3",
   "version": "3.9.13"
  }
 },
 "nbformat": 4,
 "nbformat_minor": 5
}
